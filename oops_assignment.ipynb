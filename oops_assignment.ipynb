{
 "cells": [
  {
   "cell_type": "code",
   "execution_count": 2,
   "id": "7a7cfa5a-3582-48b3-baed-2ee44359ab7e",
   "metadata": {},
   "outputs": [],
   "source": [
    "# question no 1: what are the five key components of object oriented programming\n",
    "#  oops is a way of programming where we use concept of class and object\n",
    "# there are 5 key components of oops\n",
    "\n",
    "# Encapsulation: |This involves bundling data (attributes) and methods (functions) that operate on the data into a single unit, typically a class.\n",
    "#      It helps in hiding the internal state of the object from the outside world and only exposing necessary functionalities.\n",
    "#      Encapsulation is implemented using access modifiers like private, protected, and public.\n",
    "#\n",
    "# Abstraction: Abstraction is the concept of hiding the complex implementation details and showing only the necessary features of an object.\n",
    "#  It allows a programmer to focus on interactions at a high level without worrying about the intricate workings.\n",
    "#  Abstraction is achieved through abstract classes and interfaces.\n",
    "#\n",
    "# Inheritance: Inheritance allows a new class to inherit the properties and behaviors (methods) of an existing class.\n",
    "#  The new class, known as the subclass or derived class, can reuse, extend, or modify the functionalities of the parent class.\n",
    "#  This promotes code reusability and establishes a hierarchical relationship between classes.\n",
    "#\n",
    "# Polymorphism: Polymorphism enables objects of different classes to be treated as objects of a common superclass.\n",
    "#  The most common types are method overriding (runtime polymorphism) and method overloading (compile-time polymorphism).\n",
    "#  This allows for methods to be used interchangeably and promotes flexibility and integration in code.\n",
    "#\n",
    "# Composition: Composition involves building complex objects by combining simpler ones.\n",
    "#  Instead of inheriting from a base class, a class can contain objects of other classes, using their functionalities to achieve a more complex behavior.\n",
    "#  This is often preferred over inheritance for creating more modular and flexible systems.\n"
   ]
  },
  {
   "cell_type": "code",
   "execution_count": 3,
   "id": "ae35cd8b-ca8d-44da-92f9-3dfc6f47e310",
   "metadata": {},
   "outputs": [
    {
     "name": "stdout",
     "output_type": "stream",
     "text": [
      "Car Make: toyota\n",
      "Car Model: fortuner\n",
      "Car Year: 2024\n"
     ]
    }
   ],
   "source": [
    "# question number 2 : write a python class for a car with attributes for \"make\",\"model\",and 'year'.include a method to display the cars information\n",
    "#  amswer :\n",
    "class Car:\n",
    "    def __init__(self, make, model, year):\n",
    "        self.make = make\n",
    "        self.model = model\n",
    "        self.year = year\n",
    "\n",
    "    def display_info(self):\n",
    "        print(f\"Car Make: {self.make}\")\n",
    "        print(f\"Car Model: {self.model}\")\n",
    "        print(f\"Car Year: {self.year}\")\n",
    "\n",
    "obj=Car(\"toyota\",\"fortuner\",2024)\n",
    "obj.display_info()"
   ]
  },
  {
   "cell_type": "code",
   "execution_count": 4,
   "id": "fce2ea94-c9a8-48e3-95ec-9597500a80db",
   "metadata": {},
   "outputs": [
    {
     "name": "stdout",
     "output_type": "stream",
     "text": [
      "Car Make: Toyota\n",
      "Car Model: fortuner\n",
      "Car Year: 2024\n",
      "Car Make: Toyota\n",
      "Car Model: fortuner\n",
      "Car Year: 2024\n",
      "all cars can accilarate\n"
     ]
    }
   ],
   "source": [
    "#  question no 3 : explain the difference between instance method and class method and give an example\n",
    "# answer no 3 :\n",
    "# Instance Methods\n",
    "# Definition: Instance methods are the most common type of methods in classes.\n",
    "# They operate on instances of the class and can access and modify the instance’s attributes.\n",
    "# Instance methods require a reference to the instance of the class, which is passed as the first parameter, usually named self.\n",
    "# example:\n",
    "class Car:\n",
    "    def __init__(self, make, model, year):\n",
    "        self.make = make\n",
    "        self.model = model\n",
    "        self.year = year\n",
    "\n",
    "    def display_info(self):\n",
    "        print(f\"Car Make: {self.make}\")\n",
    "        print(f\"Car Model: {self.model}\")\n",
    "        print(f\"Car Year: {self.year}\")\n",
    "# Create an instance of Car\n",
    "my_car = Car(\"Toyota\", \"fortuner\", 2024)\n",
    "my_car.display_info()\n",
    "\n",
    "# Class Methods\n",
    "# Definition: Class methods are methods that operate on the class itself rather than on instances of the class.\n",
    "# They are defined using the @classmethod decorator and take cls as the first parameter, which represents the class itself.\n",
    "class Car:\n",
    "\n",
    "    def __init__(self, make, model, year):\n",
    "        self.make = make\n",
    "        self.model = model\n",
    "        self.year = year\n",
    "\n",
    "    def display_info(self):\n",
    "        # Instance method\n",
    "        print(f\"Car Make: {self.make}\")\n",
    "        print(f\"Car Model: {self.model}\")\n",
    "        print(f\"Car Year: {self.year}\")\n",
    "\n",
    "    @classmethod\n",
    "    def vehicle_type(cls):\n",
    "        print(\"all cars can accilarate\")\n",
    "\n",
    "\n",
    "my_car = Car(\"Toyota\", \"fortuner\", 2024)\n",
    "my_car.display_info()\n",
    "\n",
    "Car.vehicle_type()\n"
   ]
  },
  {
   "cell_type": "code",
   "execution_count": null,
   "id": "48baa88f-411a-4137-a814-0d316babc682",
   "metadata": {},
   "outputs": [],
   "source": [
    "# question no 4 : . How does Python implement method overloading? Give an example.\n",
    "#  answer no 4 :\n",
    "# Python does not support method overloading in the same way that some other programming languages like Java or C++ do.\n",
    "# In those languages, you can define multiple methods with the same name but different parameter lists, and the correct method is chosen based on the arguments passed.\n",
    "#\n",
    "# In Python, if you define multiple methods with the same name in a class, the last definition of the method will overwrite the previous ones.\n",
    "# Instead, Python uses default arguments, variable-length arguments, or keyword arguments to achieve similar functionality.\n",
    "#\n",
    "# Method Overloading in Python\n",
    "# Python uses the following approaches to simulate method overloading:\n",
    "#\n",
    "# Default Arguments: You can provide default values for parameters, allowing methods to handle different numbers of arguments.\n",
    "#\n",
    "# Variable-Length Arguments: Using *args (for non-keyword arguments) and **kwargs (for keyword arguments) allows methods to accept a varying number of arguments.\n",
    "#  example\n",
    "class MathOperations:\n",
    "\n",
    "    def add(self, *args):\n",
    "        return sum(args)\n",
    "\n",
    "obj = MathOperations()\n",
    "\n",
    "print(obj.add(500, 25,1203,8484))\n",
    "print(obj.add(624,8484,949594,49484478))\n",
    "print(obj.add())"
   ]
  }
 ],
 "metadata": {
  "kernelspec": {
   "display_name": "Python 3 (ipykernel)",
   "language": "python",
   "name": "python3"
  },
  "language_info": {
   "codemirror_mode": {
    "name": "ipython",
    "version": 3
   },
   "file_extension": ".py",
   "mimetype": "text/x-python",
   "name": "python",
   "nbconvert_exporter": "python",
   "pygments_lexer": "ipython3",
   "version": "3.12.6"
  }
 },
 "nbformat": 4,
 "nbformat_minor": 5
}
